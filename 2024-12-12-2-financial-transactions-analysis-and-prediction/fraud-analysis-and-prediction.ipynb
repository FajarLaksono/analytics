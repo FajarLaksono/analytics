{
 "cells": [
  {
   "cell_type": "markdown",
   "metadata": {},
   "source": [
    "# Fraud Analysis and Detection\n",
    "This a practice analysis code by Fajar Laksono."
   ]
  },
  {
   "cell_type": "markdown",
   "metadata": {},
   "source": [
    "## Import Libraries"
   ]
  },
  {
   "cell_type": "code",
   "execution_count": 1,
   "metadata": {},
   "outputs": [
    {
     "name": "stderr",
     "output_type": "stream",
     "text": [
      "c:\\Users\\User\\.pyenv\\pyenv-win\\versions\\3.9.13\\lib\\site-packages\\tqdm\\auto.py:21: TqdmWarning: IProgress not found. Please update jupyter and ipywidgets. See https://ipywidgets.readthedocs.io/en/stable/user_install.html\n",
      "  from .autonotebook import tqdm as notebook_tqdm\n"
     ]
    }
   ],
   "source": [
    "import kagglehub\n",
    "import pandas as pd\n",
    "import json\n",
    "import matplotlib\n",
    "import matplotlib.pyplot as plt\n",
    "import os\n",
    "\n",
    "from sklearn.model_selection import train_test_split\n",
    "from sklearn.ensemble import RandomForestClassifier\n",
    "from sklearn.metrics import accuracy_score, classification_report\n",
    "from sklearn.preprocessing import LabelEncoder"
   ]
  },
  {
   "cell_type": "markdown",
   "metadata": {},
   "source": [
    "## Load and Transform datasets"
   ]
  },
  {
   "cell_type": "markdown",
   "metadata": {},
   "source": [
    "### Download datasets\n",
    "\n",
    "Data source by computingvictor from kaggle.\n",
    "https://www.kaggle.com/datasets/computingvictor/transactions-fraud-datasets"
   ]
  },
  {
   "cell_type": "code",
   "execution_count": 2,
   "metadata": {},
   "outputs": [
    {
     "name": "stdout",
     "output_type": "stream",
     "text": [
      "Path to dataset files: C:\\Users\\User\\.cache\\kagglehub\\datasets\\computingvictor\\transactions-fraud-datasets\\versions\\1\n"
     ]
    }
   ],
   "source": [
    "# Download latest version\n",
    "path = kagglehub.dataset_download(\"computingvictor/transactions-fraud-datasets\")\n",
    "\n",
    "print(\"Path to dataset files:\", path)"
   ]
  },
  {
   "cell_type": "markdown",
   "metadata": {},
   "source": [
    "### Load mcc_codes.json"
   ]
  },
  {
   "cell_type": "code",
   "execution_count": 3,
   "metadata": {},
   "outputs": [],
   "source": [
    "# Load mcc_codes.json, and add columns\n",
    "with open(os.path.join(path, \"mcc_codes.json\"), \"r\") as f: \n",
    "    mcc_code_json = json.load(f)\n",
    "\n",
    "mcc_codes_df = pd.DataFrame(list(mcc_code_json.items()), columns=['id', 'name'])"
   ]
  },
  {
   "cell_type": "markdown",
   "metadata": {},
   "source": [
    "### Load train_fraud_labels.json"
   ]
  },
  {
   "cell_type": "code",
   "execution_count": 4,
   "metadata": {},
   "outputs": [],
   "source": [
    "# Load train_fraud_bales.json, and add columns\n",
    "\n",
    "with open(os.path.join(path, \"train_fraud_labels.json\"), \"r\") as f: \n",
    "    train_fraud_labels_json = json.load(f)\n",
    "\n",
    "train_fraud_labels_df = pd.DataFrame(list(train_fraud_labels_json[\"target\"].items()), columns=['id', 'label'])"
   ]
  },
  {
   "cell_type": "markdown",
   "metadata": {},
   "source": [
    "### Load transactions_data.csv"
   ]
  },
  {
   "cell_type": "code",
   "execution_count": 5,
   "metadata": {},
   "outputs": [],
   "source": [
    "# Load transactions_data.csv, and add columns\n",
    "transactions_df = pd.read_csv(os.path.join(path, \"transactions_data.csv\"))"
   ]
  },
  {
   "cell_type": "markdown",
   "metadata": {},
   "source": [
    "### Load cards_data.csv"
   ]
  },
  {
   "cell_type": "code",
   "execution_count": 6,
   "metadata": {},
   "outputs": [],
   "source": [
    "# Load cards_data.csv, and add columns\n",
    "cards_df = pd.read_csv(os.path.join(path, \"cards_data.csv\"))"
   ]
  },
  {
   "cell_type": "markdown",
   "metadata": {},
   "source": [
    "### Load users.csv"
   ]
  },
  {
   "cell_type": "code",
   "execution_count": 7,
   "metadata": {},
   "outputs": [],
   "source": [
    "# Load users.csv, and add columns\n",
    "users_df = pd.read_csv(os.path.join(path, \"users_data.csv\"))"
   ]
  },
  {
   "cell_type": "markdown",
   "metadata": {},
   "source": [
    "## Data Preparation"
   ]
  },
  {
   "cell_type": "markdown",
   "metadata": {},
   "source": [
    "### Dataset observations"
   ]
  },
  {
   "cell_type": "markdown",
   "metadata": {},
   "source": [
    "#### Check Missing values"
   ]
  },
  {
   "cell_type": "code",
   "execution_count": 8,
   "metadata": {},
   "outputs": [
    {
     "name": "stdout",
     "output_type": "stream",
     "text": [
      "\n",
      "===> mcc_codes_df, missing values: \n",
      " id      0\n",
      "name    0\n",
      "dtype: int64\n",
      "\n",
      "===> train_fraud_labels_df, missing values: \n",
      " id       0\n",
      "label    0\n",
      "dtype: int64\n",
      "\n",
      "===> transactions_df, missing values: \n",
      " id                       0\n",
      "date                     0\n",
      "client_id                0\n",
      "card_id                  0\n",
      "amount                   0\n",
      "use_chip                 0\n",
      "merchant_id              0\n",
      "merchant_city            0\n",
      "merchant_state     1563700\n",
      "zip                1652706\n",
      "mcc                      0\n",
      "errors            13094522\n",
      "dtype: int64\n",
      "\n",
      "===> cards_df, missing values: \n",
      " id                       0\n",
      "client_id                0\n",
      "card_brand               0\n",
      "card_type                0\n",
      "card_number              0\n",
      "expires                  0\n",
      "cvv                      0\n",
      "has_chip                 0\n",
      "num_cards_issued         0\n",
      "credit_limit             0\n",
      "acct_open_date           0\n",
      "year_pin_last_changed    0\n",
      "card_on_dark_web         0\n",
      "dtype: int64\n",
      "\n",
      "===> users_df, missing values: \n",
      " id                   0\n",
      "current_age          0\n",
      "retirement_age       0\n",
      "birth_year           0\n",
      "birth_month          0\n",
      "gender               0\n",
      "address              0\n",
      "latitude             0\n",
      "longitude            0\n",
      "per_capita_income    0\n",
      "yearly_income        0\n",
      "total_debt           0\n",
      "credit_score         0\n",
      "num_credit_cards     0\n",
      "dtype: int64\n"
     ]
    }
   ],
   "source": [
    "print(\"\\n===> mcc_codes_df, missing values: \\n\", mcc_codes_df.isnull().sum())\n",
    "print(\"\\n===> train_fraud_labels_df, missing values: \\n\", train_fraud_labels_df.isnull().sum())\n",
    "print(\"\\n===> transactions_df, missing values: \\n\", transactions_df.isnull().sum())\n",
    "print(\"\\n===> cards_df, missing values: \\n\", cards_df.isnull().sum())\n",
    "print(\"\\n===> users_df, missing values: \\n\", users_df.isnull().sum())"
   ]
  },
  {
   "cell_type": "markdown",
   "metadata": {},
   "source": [
    "#### Check datasets information"
   ]
  },
  {
   "cell_type": "code",
   "execution_count": 9,
   "metadata": {},
   "outputs": [
    {
     "name": "stdout",
     "output_type": "stream",
     "text": [
      "<class 'pandas.core.frame.DataFrame'>\n",
      "RangeIndex: 109 entries, 0 to 108\n",
      "Data columns (total 2 columns):\n",
      " #   Column  Non-Null Count  Dtype \n",
      "---  ------  --------------  ----- \n",
      " 0   id      109 non-null    object\n",
      " 1   name    109 non-null    object\n",
      "dtypes: object(2)\n",
      "memory usage: 1.8+ KB\n",
      "None \n",
      "\n",
      "<class 'pandas.core.frame.DataFrame'>\n",
      "RangeIndex: 8914963 entries, 0 to 8914962\n",
      "Data columns (total 2 columns):\n",
      " #   Column  Dtype \n",
      "---  ------  ----- \n",
      " 0   id      object\n",
      " 1   label   object\n",
      "dtypes: object(2)\n",
      "memory usage: 136.0+ MB\n",
      "None \n",
      "\n",
      "<class 'pandas.core.frame.DataFrame'>\n",
      "RangeIndex: 13305915 entries, 0 to 13305914\n",
      "Data columns (total 12 columns):\n",
      " #   Column          Dtype  \n",
      "---  ------          -----  \n",
      " 0   id              int64  \n",
      " 1   date            object \n",
      " 2   client_id       int64  \n",
      " 3   card_id         int64  \n",
      " 4   amount          object \n",
      " 5   use_chip        object \n",
      " 6   merchant_id     int64  \n",
      " 7   merchant_city   object \n",
      " 8   merchant_state  object \n",
      " 9   zip             float64\n",
      " 10  mcc             int64  \n",
      " 11  errors          object \n",
      "dtypes: float64(1), int64(5), object(6)\n",
      "memory usage: 1.2+ GB\n",
      "None \n",
      "\n",
      "<class 'pandas.core.frame.DataFrame'>\n",
      "RangeIndex: 6146 entries, 0 to 6145\n",
      "Data columns (total 13 columns):\n",
      " #   Column                 Non-Null Count  Dtype \n",
      "---  ------                 --------------  ----- \n",
      " 0   id                     6146 non-null   int64 \n",
      " 1   client_id              6146 non-null   int64 \n",
      " 2   card_brand             6146 non-null   object\n",
      " 3   card_type              6146 non-null   object\n",
      " 4   card_number            6146 non-null   int64 \n",
      " 5   expires                6146 non-null   object\n",
      " 6   cvv                    6146 non-null   int64 \n",
      " 7   has_chip               6146 non-null   object\n",
      " 8   num_cards_issued       6146 non-null   int64 \n",
      " 9   credit_limit           6146 non-null   object\n",
      " 10  acct_open_date         6146 non-null   object\n",
      " 11  year_pin_last_changed  6146 non-null   int64 \n",
      " 12  card_on_dark_web       6146 non-null   object\n",
      "dtypes: int64(6), object(7)\n",
      "memory usage: 624.3+ KB\n",
      "None \n",
      "\n",
      "<class 'pandas.core.frame.DataFrame'>\n",
      "RangeIndex: 2000 entries, 0 to 1999\n",
      "Data columns (total 14 columns):\n",
      " #   Column             Non-Null Count  Dtype  \n",
      "---  ------             --------------  -----  \n",
      " 0   id                 2000 non-null   int64  \n",
      " 1   current_age        2000 non-null   int64  \n",
      " 2   retirement_age     2000 non-null   int64  \n",
      " 3   birth_year         2000 non-null   int64  \n",
      " 4   birth_month        2000 non-null   int64  \n",
      " 5   gender             2000 non-null   object \n",
      " 6   address            2000 non-null   object \n",
      " 7   latitude           2000 non-null   float64\n",
      " 8   longitude          2000 non-null   float64\n",
      " 9   per_capita_income  2000 non-null   object \n",
      " 10  yearly_income      2000 non-null   object \n",
      " 11  total_debt         2000 non-null   object \n",
      " 12  credit_score       2000 non-null   int64  \n",
      " 13  num_credit_cards   2000 non-null   int64  \n",
      "dtypes: float64(2), int64(7), object(5)\n",
      "memory usage: 218.9+ KB\n",
      "None \n",
      "\n"
     ]
    }
   ],
   "source": [
    "print(mcc_codes_df.info(), \"\\n\")\n",
    "print(train_fraud_labels_df.info(), \"\\n\")\n",
    "print(transactions_df.info(), \"\\n\")\n",
    "print(cards_df.info(), \"\\n\")\n",
    "print(users_df.info(), \"\\n\")"
   ]
  },
  {
   "cell_type": "markdown",
   "metadata": {},
   "source": [
    "#### Check Duplication"
   ]
  },
  {
   "cell_type": "code",
   "execution_count": 10,
   "metadata": {},
   "outputs": [
    {
     "name": "stdout",
     "output_type": "stream",
     "text": [
      "0      False\n",
      "1      False\n",
      "2      False\n",
      "3      False\n",
      "4      False\n",
      "       ...  \n",
      "104    False\n",
      "105    False\n",
      "106    False\n",
      "107    False\n",
      "108    False\n",
      "Length: 109, dtype: bool \n",
      "\n",
      "0          False\n",
      "1          False\n",
      "2          False\n",
      "3          False\n",
      "4          False\n",
      "           ...  \n",
      "8914958    False\n",
      "8914959    False\n",
      "8914960    False\n",
      "8914961    False\n",
      "8914962    False\n",
      "Length: 8914963, dtype: bool \n",
      "\n",
      "0           False\n",
      "1           False\n",
      "2           False\n",
      "3           False\n",
      "4           False\n",
      "            ...  \n",
      "13305910    False\n",
      "13305911    False\n",
      "13305912    False\n",
      "13305913    False\n",
      "13305914    False\n",
      "Length: 13305915, dtype: bool \n",
      "\n",
      "0       False\n",
      "1       False\n",
      "2       False\n",
      "3       False\n",
      "4       False\n",
      "        ...  \n",
      "6141    False\n",
      "6142    False\n",
      "6143    False\n",
      "6144    False\n",
      "6145    False\n",
      "Length: 6146, dtype: bool \n",
      "\n",
      "0       False\n",
      "1       False\n",
      "2       False\n",
      "3       False\n",
      "4       False\n",
      "        ...  \n",
      "1995    False\n",
      "1996    False\n",
      "1997    False\n",
      "1998    False\n",
      "1999    False\n",
      "Length: 2000, dtype: bool \n",
      "\n"
     ]
    }
   ],
   "source": [
    "print(mcc_codes_df.duplicated(), \"\\n\")\n",
    "print(train_fraud_labels_df.duplicated(), \"\\n\")\n",
    "print(transactions_df.duplicated(), \"\\n\")\n",
    "print(cards_df.duplicated(), \"\\n\")\n",
    "print(users_df.duplicated(), \"\\n\")"
   ]
  },
  {
   "cell_type": "markdown",
   "metadata": {},
   "source": [
    "### Data type correction"
   ]
  },
  {
   "cell_type": "markdown",
   "metadata": {},
   "source": [
    "#### mcc_codes"
   ]
  },
  {
   "cell_type": "code",
   "execution_count": 11,
   "metadata": {},
   "outputs": [],
   "source": [
    "mcc_codes_df['id'] = pd.to_numeric(mcc_codes_df['id'])\n",
    "mcc_codes_df['name'] = mcc_codes_df['name'].astype(\"string\")"
   ]
  },
  {
   "cell_type": "markdown",
   "metadata": {},
   "source": [
    "#### train_fraud_labels"
   ]
  },
  {
   "cell_type": "code",
   "execution_count": 12,
   "metadata": {},
   "outputs": [],
   "source": [
    "train_fraud_labels_df['id'] = pd.to_numeric(train_fraud_labels_df['id'])\n",
    "train_fraud_labels_df['label'] = train_fraud_labels_df['label'].astype(\"string\")"
   ]
  },
  {
   "cell_type": "markdown",
   "metadata": {},
   "source": [
    "#### transactions"
   ]
  },
  {
   "cell_type": "code",
   "execution_count": 13,
   "metadata": {},
   "outputs": [],
   "source": [
    "transactions_df['amount'] = transactions_df['amount'].astype(\"string\")\n",
    "transactions_df['use_chip'] = transactions_df['use_chip'].astype(\"string\")\n",
    "transactions_df['merchant_city'] = transactions_df['merchant_city'].astype(\"string\")\n",
    "transactions_df['merchant_state'] = transactions_df['merchant_state'].astype(\"string\")\n",
    "transactions_df['errors'] = transactions_df['errors'].astype(\"string\")"
   ]
  },
  {
   "cell_type": "markdown",
   "metadata": {},
   "source": [
    "#### cards"
   ]
  },
  {
   "cell_type": "code",
   "execution_count": 14,
   "metadata": {},
   "outputs": [],
   "source": [
    "cards_df['card_brand'] = cards_df['card_brand'].astype(\"string\")\n",
    "cards_df['card_type'] = cards_df['card_type'].astype(\"string\")\n",
    "# cards_df['expires'] = pd.to_datetime(cards_df['card_number'])\n",
    "cards_df['has_chip'] = cards_df['has_chip'].astype(\"string\")\n",
    "cards_df['credit_limit'] = cards_df['credit_limit'].astype(\"string\")\n",
    "cards_df['card_on_dark_web'] = cards_df['card_on_dark_web'].astype(\"string\")"
   ]
  },
  {
   "cell_type": "markdown",
   "metadata": {},
   "source": [
    "#### users"
   ]
  },
  {
   "cell_type": "code",
   "execution_count": 15,
   "metadata": {},
   "outputs": [],
   "source": [
    "users_df['gender'] = users_df['gender'].astype(\"string\")\n",
    "users_df['address'] = users_df['address'].astype(\"string\")\n",
    "users_df['per_capita_income'] = users_df['per_capita_income'].astype(\"string\")\n",
    "users_df['yearly_income'] = users_df['yearly_income'].astype(\"string\")\n",
    "users_df['total_debt'] = users_df['total_debt'].astype(\"string\")"
   ]
  },
  {
   "cell_type": "markdown",
   "metadata": {},
   "source": [
    "### Mergin Datasets"
   ]
  },
  {
   "cell_type": "code",
   "execution_count": 16,
   "metadata": {},
   "outputs": [],
   "source": [
    "data = transactions_df.merge(cards_df, left_on=\"card_id\", right_on=\"id\", how=\"left\", suffixes=(\"\", \"_cards_data\"))\n",
    "data = data.merge(users_df, left_on=\"client_id\", right_on=\"id\", how=\"left\", suffixes=(\"\", \"_users_data\"))\n",
    "data = data.merge(mcc_codes_df, left_on=\"mcc\", right_on=\"id\", how=\"left\", suffixes=(\"\", \"_mcc_codes\"))\n",
    "data = data.merge(train_fraud_labels_df, left_on=\"id\", right_on=\"id\", how=\"left\", suffixes=(\"\", \"_fraud_labels\"))\n",
    "\n",
    "# data[\"amount_relative_to_limit\"] = data['amount'] / data['credit_limit']\n",
    "# data[\"amount_relative_to_yearly_salary\"] = data['amount'] / data [\"yearly_income\"]"
   ]
  },
  {
   "cell_type": "markdown",
   "metadata": {},
   "source": [
    "### Value Correction"
   ]
  },
  {
   "cell_type": "markdown",
   "metadata": {},
   "source": [
    "#### Modification"
   ]
  },
  {
   "cell_type": "code",
   "execution_count": 17,
   "metadata": {},
   "outputs": [
    {
     "name": "stderr",
     "output_type": "stream",
     "text": [
      "C:\\Users\\User\\AppData\\Local\\Temp\\ipykernel_14428\\696328010.py:3: UserWarning: Could not infer format, so each element will be parsed individually, falling back to `dateutil`. To ensure parsing is consistent and as-expected, please specify a format.\n",
      "  data['expires'] = pd.to_datetime(data['expires']).astype(int) // 10**9\n",
      "C:\\Users\\User\\AppData\\Local\\Temp\\ipykernel_14428\\696328010.py:4: UserWarning: Could not infer format, so each element will be parsed individually, falling back to `dateutil`. To ensure parsing is consistent and as-expected, please specify a format.\n",
      "  data['acct_open_date'] = pd.to_datetime(data['acct_open_date']).astype(int) // 10**9\n"
     ]
    }
   ],
   "source": [
    "data['date'] = pd.to_datetime(data['date']).astype(int) // 10**9\n",
    "data['amount'] = data['amount'].str.extract(r'(-?\\d+)').astype(int)\n",
    "data['expires'] = pd.to_datetime(data['expires']).astype(int) // 10**9\n",
    "data['acct_open_date'] = pd.to_datetime(data['acct_open_date']).astype(int) // 10**9\n",
    "data['credit_limit'] = data['credit_limit'].str.extract(r'(-?\\d+)').astype(int)\n",
    "data['per_capita_income'] = data['per_capita_income'].str.extract(r'(-?\\d+)').astype(int)\n",
    "data['yearly_income'] = data['yearly_income'].str.extract(r'(-?\\d+)').astype(int)\n",
    "data['total_debt'] = data['total_debt'].str.extract(r'(-?\\d+)').astype(int)\n",
    "\n",
    "label_encoder = LabelEncoder()\n",
    "categorical_cols = ['use_chip', 'errors', 'card_brand',\n",
    "                    'card_type', 'has_chip', 'gender', 'label']\n",
    "for col in categorical_cols:\n",
    "    data[col] = label_encoder.fit_transform(data[col].astype(str))"
   ]
  },
  {
   "cell_type": "markdown",
   "metadata": {},
   "source": [
    "> <b><u>Note :</u></b>\n",
    "> \n",
    "> The label will be encoded. 0 = Null, 1 = Legit/No, 2 - Fraudulant/Yes "
   ]
  },
  {
   "cell_type": "markdown",
   "metadata": {},
   "source": [
    "#### Removing"
   ]
  },
  {
   "cell_type": "code",
   "execution_count": 18,
   "metadata": {},
   "outputs": [],
   "source": [
    "data = data.drop(columns=['card_on_dark_web', 'address', 'zip', 'name', 'merchant_city', 'merchant_state'])"
   ]
  },
  {
   "cell_type": "markdown",
   "metadata": {},
   "source": [
    "## Analysis"
   ]
  },
  {
   "cell_type": "markdown",
   "metadata": {},
   "source": [
    "### structure"
   ]
  },
  {
   "cell_type": "code",
   "execution_count": 19,
   "metadata": {},
   "outputs": [
    {
     "name": "stdout",
     "output_type": "stream",
     "text": [
      "<class 'pandas.core.frame.DataFrame'>\n",
      "RangeIndex: 13305915 entries, 0 to 13305914\n",
      "Data columns (total 36 columns):\n",
      " #   Column                 Dtype  \n",
      "---  ------                 -----  \n",
      " 0   id                     int64  \n",
      " 1   date                   int64  \n",
      " 2   client_id              int64  \n",
      " 3   card_id                int64  \n",
      " 4   amount                 int64  \n",
      " 5   use_chip               int64  \n",
      " 6   merchant_id            int64  \n",
      " 7   mcc                    int64  \n",
      " 8   errors                 int64  \n",
      " 9   id_cards_data          int64  \n",
      " 10  client_id_cards_data   int64  \n",
      " 11  card_brand             int64  \n",
      " 12  card_type              int64  \n",
      " 13  card_number            int64  \n",
      " 14  expires                int64  \n",
      " 15  cvv                    int64  \n",
      " 16  has_chip               int64  \n",
      " 17  num_cards_issued       int64  \n",
      " 18  credit_limit           int64  \n",
      " 19  acct_open_date         int64  \n",
      " 20  year_pin_last_changed  int64  \n",
      " 21  id_users_data          int64  \n",
      " 22  current_age            int64  \n",
      " 23  retirement_age         int64  \n",
      " 24  birth_year             int64  \n",
      " 25  birth_month            int64  \n",
      " 26  gender                 int64  \n",
      " 27  latitude               float64\n",
      " 28  longitude              float64\n",
      " 29  per_capita_income      int64  \n",
      " 30  yearly_income          int64  \n",
      " 31  total_debt             int64  \n",
      " 32  credit_score           int64  \n",
      " 33  num_credit_cards       int64  \n",
      " 34  id_mcc_codes           int64  \n",
      " 35  label                  int64  \n",
      "dtypes: float64(2), int64(34)\n",
      "memory usage: 3.6 GB\n",
      "None\n"
     ]
    }
   ],
   "source": [
    "print(data.info())"
   ]
  },
  {
   "cell_type": "markdown",
   "metadata": {},
   "source": [
    "### distribution"
   ]
  },
  {
   "cell_type": "code",
   "execution_count": 20,
   "metadata": {},
   "outputs": [
    {
     "name": "stdout",
     "output_type": "stream",
     "text": [
      "label\n",
      "1    8901631\n",
      "0    4390952\n",
      "2      13332\n",
      "Name: count, dtype: int64\n"
     ]
    },
    {
     "data": {
      "image/png": "[encoded data removed]",
      "text/plain": [
       "<Figure size 640x480 with 1 Axes>"
      ]
     },
     "metadata": {},
     "output_type": "display_data"
    }
   ],
   "source": [
    "distribution = data[\"label\"].value_counts(dropna=False)\n",
    "print(distribution)\n",
    "distribution.plot(kind=\"bar\", color=[\"blue\", \"green\", \"red\"])\n",
    "plt.ion()\n",
    "plt.title(\"Distribution of lables\")\n",
    "plt.xlabel(\"Label\")\n",
    "plt.ylabel(\"Count\")\n",
    "plt.xticks(rotation=0)\n",
    "plt.show()"
   ]
  },
  {
   "cell_type": "markdown",
   "metadata": {},
   "source": [
    "> <u><b>Note:</b></u> \n",
    "> \n",
    "> NA: something we need to predict\n",
    "> \n",
    "> Yes: Fraudulent transaction\n",
    "> \n",
    "> No: Legit transaction\n",
    "> "
   ]
  },
  {
   "cell_type": "markdown",
   "metadata": {},
   "source": [
    "## Training Model"
   ]
  },
  {
   "cell_type": "markdown",
   "metadata": {},
   "source": [
    "### Data preparation"
   ]
  },
  {
   "cell_type": "markdown",
   "metadata": {},
   "source": [
    "#### Seperating Fraud and Legit transaction"
   ]
  },
  {
   "cell_type": "code",
   "execution_count": 21,
   "metadata": {},
   "outputs": [],
   "source": [
    "fraud_trans_records = data[data.label == 2]\n",
    "legit_trans_records = data[data.label == 1]"
   ]
  },
  {
   "cell_type": "markdown",
   "metadata": {},
   "source": [
    "#### Analysis"
   ]
  },
  {
   "cell_type": "code",
   "execution_count": 22,
   "metadata": {},
   "outputs": [
    {
     "name": "stdout",
     "output_type": "stream",
     "text": [
      "(13332, 36)\n",
      "(8901631, 36)\n"
     ]
    }
   ],
   "source": [
    "print(fraud_trans_records.shape)\n",
    "print(legit_trans_records.shape)"
   ]
  },
  {
   "cell_type": "code",
   "execution_count": 23,
   "metadata": {},
   "outputs": [
    {
     "name": "stdout",
     "output_type": "stream",
     "text": [
      "=> fraud_trans_records_amount \n",
      " count    13332.000000\n",
      "mean       109.785179\n",
      "std        213.717208\n",
      "min       -500.000000\n",
      "25%         17.000000\n",
      "50%         69.500000\n",
      "75%        148.000000\n",
      "max       4978.000000\n",
      "Name: amount, dtype: float64\n",
      "=> normal_trans_records_amount \n",
      " count    8.901631e+06\n",
      "mean     4.242688e+01\n",
      "std      8.111167e+01\n",
      "min     -5.000000e+02\n",
      "25%      8.000000e+00\n",
      "50%      2.800000e+01\n",
      "75%      6.300000e+01\n",
      "max      6.613000e+03\n",
      "Name: amount, dtype: float64\n",
      "\n",
      "\n",
      "=> fraud_trans_records_credit_limit \n",
      " count     13332.000000\n",
      "mean      13757.910441\n",
      "std       11035.564361\n",
      "min           0.000000\n",
      "25%        6600.000000\n",
      "50%       12346.000000\n",
      "75%       19100.750000\n",
      "max      132439.000000\n",
      "Name: credit_limit, dtype: float64\n",
      "=> normal_trans_records_credit_limit \n",
      " count    8.901631e+06\n",
      "mean     1.555227e+04\n",
      "std      1.218343e+04\n",
      "min      0.000000e+00\n",
      "25%      8.100000e+03\n",
      "50%      1.346000e+04\n",
      "75%      2.083900e+04\n",
      "max      1.413910e+05\n",
      "Name: credit_limit, dtype: float64\n",
      "\n",
      "\n",
      "=> fraud_trans_records_yearly_income \n",
      " count     13332.000000\n",
      "mean      44390.120237\n",
      "std       22790.635714\n",
      "min           1.000000\n",
      "25%       31688.000000\n",
      "50%       39661.000000\n",
      "75%       51454.000000\n",
      "max      280199.000000\n",
      "Name: yearly_income, dtype: float64\n",
      "=> normal_trans_records_yearly_income \n",
      " count    8.901631e+06\n",
      "mean     4.669479e+04\n",
      "std      2.445813e+04\n",
      "min      1.000000e+00\n",
      "25%      3.281700e+04\n",
      "50%      4.109100e+04\n",
      "75%      5.401300e+04\n",
      "max      2.801990e+05\n",
      "Name: yearly_income, dtype: float64\n"
     ]
    }
   ],
   "source": [
    "print(\"=> fraud_trans_records_amount \\n\", fraud_trans_records.amount.describe())\n",
    "print(\"=> normal_trans_records_amount \\n\", legit_trans_records.amount.describe())\n",
    "print(\"\\n\")\n",
    "print(\"=> fraud_trans_records_credit_limit \\n\", fraud_trans_records.credit_limit.describe())\n",
    "print(\"=> normal_trans_records_credit_limit \\n\", legit_trans_records.credit_limit.describe())\n",
    "print(\"\\n\")\n",
    "print(\"=> fraud_trans_records_yearly_income \\n\", fraud_trans_records.yearly_income.describe())\n",
    "print(\"=> normal_trans_records_yearly_income \\n\", legit_trans_records.yearly_income.describe())"
   ]
  },
  {
   "cell_type": "code",
   "execution_count": 24,
   "metadata": {},
   "outputs": [
    {
     "data": {
      "text/html": [
       "<div>\n",
       "<style scoped>\n",
       "    .dataframe tbody tr th:only-of-type {\n",
       "        vertical-align: middle;\n",
       "    }\n",
       "\n",
       "    .dataframe tbody tr th {\n",
       "        vertical-align: top;\n",
       "    }\n",
       "\n",
       "    .dataframe thead th {\n",
       "        text-align: right;\n",
       "    }\n",
       "</style>\n",
       "<table border=\"1\" class=\"dataframe\">\n",
       "  <thead>\n",
       "    <tr style=\"text-align: right;\">\n",
       "      <th></th>\n",
       "      <th>date</th>\n",
       "      <th>amount</th>\n",
       "      <th>credit_limit</th>\n",
       "      <th>yearly_income</th>\n",
       "    </tr>\n",
       "    <tr>\n",
       "      <th>label</th>\n",
       "      <th></th>\n",
       "      <th></th>\n",
       "      <th></th>\n",
       "      <th></th>\n",
       "    </tr>\n",
       "  </thead>\n",
       "  <tbody>\n",
       "    <tr>\n",
       "      <th>0</th>\n",
       "      <td>1.420499e+09</td>\n",
       "      <td>42.608256</td>\n",
       "      <td>15550.340328</td>\n",
       "      <td>46668.140251</td>\n",
       "    </tr>\n",
       "    <tr>\n",
       "      <th>1</th>\n",
       "      <td>1.420539e+09</td>\n",
       "      <td>42.426883</td>\n",
       "      <td>15552.269101</td>\n",
       "      <td>46694.792739</td>\n",
       "    </tr>\n",
       "    <tr>\n",
       "      <th>2</th>\n",
       "      <td>1.421920e+09</td>\n",
       "      <td>109.785179</td>\n",
       "      <td>13757.910441</td>\n",
       "      <td>44390.120237</td>\n",
       "    </tr>\n",
       "  </tbody>\n",
       "</table>\n",
       "</div>"
      ],
      "text/plain": [
       "               date      amount  credit_limit  yearly_income\n",
       "label                                                       \n",
       "0      1.420499e+09   42.608256  15550.340328   46668.140251\n",
       "1      1.420539e+09   42.426883  15552.269101   46694.792739\n",
       "2      1.421920e+09  109.785179  13757.910441   44390.120237"
      ]
     },
     "execution_count": 24,
     "metadata": {},
     "output_type": "execute_result"
    }
   ],
   "source": [
    "data[['date', 'amount', 'credit_limit', 'yearly_income', 'label']].groupby('label').mean()"
   ]
  },
  {
   "cell_type": "markdown",
   "metadata": {},
   "source": [
    "> <u><b>Note:</b></u>\n",
    "> \n",
    "> The data is imbalance or under-sampling. it is required to make them equal during the training.\n",
    "> \n",
    "> The lowest data belongs to faudulant transaction (13332 records), we need to take equal number from the legit transaction, and merge it as one."
   ]
  },
  {
   "cell_type": "markdown",
   "metadata": {},
   "source": [
    "#### Equalization"
   ]
  },
  {
   "cell_type": "code",
   "execution_count": 25,
   "metadata": {},
   "outputs": [
    {
     "name": "stdout",
     "output_type": "stream",
     "text": [
      "label\n",
      "2    13332\n",
      "1    13332\n",
      "Name: count, dtype: int64\n"
     ]
    }
   ],
   "source": [
    "sample_legit_transactions = legit_trans_records.sample(n=13332)\n",
    "sample_data = pd.concat([fraud_trans_records, sample_legit_transactions], axis=0)\n",
    "\n",
    "print(sample_data['label'].value_counts())"
   ]
  },
  {
   "cell_type": "code",
   "execution_count": 26,
   "metadata": {},
   "outputs": [
    {
     "data": {
      "text/html": [
       "<div>\n",
       "<style scoped>\n",
       "    .dataframe tbody tr th:only-of-type {\n",
       "        vertical-align: middle;\n",
       "    }\n",
       "\n",
       "    .dataframe tbody tr th {\n",
       "        vertical-align: top;\n",
       "    }\n",
       "\n",
       "    .dataframe thead th {\n",
       "        text-align: right;\n",
       "    }\n",
       "</style>\n",
       "<table border=\"1\" class=\"dataframe\">\n",
       "  <thead>\n",
       "    <tr style=\"text-align: right;\">\n",
       "      <th></th>\n",
       "      <th>date</th>\n",
       "      <th>amount</th>\n",
       "      <th>credit_limit</th>\n",
       "      <th>yearly_income</th>\n",
       "    </tr>\n",
       "    <tr>\n",
       "      <th>label</th>\n",
       "      <th></th>\n",
       "      <th></th>\n",
       "      <th></th>\n",
       "      <th></th>\n",
       "    </tr>\n",
       "  </thead>\n",
       "  <tbody>\n",
       "    <tr>\n",
       "      <th>1</th>\n",
       "      <td>1.420871e+09</td>\n",
       "      <td>42.675443</td>\n",
       "      <td>15585.974047</td>\n",
       "      <td>46791.457921</td>\n",
       "    </tr>\n",
       "    <tr>\n",
       "      <th>2</th>\n",
       "      <td>1.421920e+09</td>\n",
       "      <td>109.785179</td>\n",
       "      <td>13757.910441</td>\n",
       "      <td>44390.120237</td>\n",
       "    </tr>\n",
       "  </tbody>\n",
       "</table>\n",
       "</div>"
      ],
      "text/plain": [
       "               date      amount  credit_limit  yearly_income\n",
       "label                                                       \n",
       "1      1.420871e+09   42.675443  15585.974047   46791.457921\n",
       "2      1.421920e+09  109.785179  13757.910441   44390.120237"
      ]
     },
     "execution_count": 26,
     "metadata": {},
     "output_type": "execute_result"
    }
   ],
   "source": [
    "sample_data[['date', 'amount', 'credit_limit', 'yearly_income', 'label']].groupby('label').mean()"
   ]
  },
  {
   "cell_type": "markdown",
   "metadata": {},
   "source": [
    "> <b><u>Note:</u></b>\n",
    "> \n",
    "> Alhough, the data is distributed equally, the mean of the labels remains the same."
   ]
  },
  {
   "cell_type": "markdown",
   "metadata": {},
   "source": [
    "### Build Feature and Target"
   ]
  },
  {
   "cell_type": "code",
   "execution_count": 27,
   "metadata": {},
   "outputs": [],
   "source": [
    "Y = sample_data['label']\n",
    "X = sample_data.drop(columns=['label'], axis=1)\n",
    "\n",
    "X_train, X_test, Y_train, Y_test = train_test_split(X, Y, test_size=0.2, random_state=42, stratify=Y)"
   ]
  },
  {
   "cell_type": "code",
   "execution_count": 28,
   "metadata": {},
   "outputs": [
    {
     "name": "stdout",
     "output_type": "stream",
     "text": [
      "\n",
      "X \t:                  id        date  client_id  card_id  amount  use_chip  \\\n",
      "3459       7479444  1262390160        126     5497       0         1   \n",
      "9526       7486725  1262552280        126     5497     339         1   \n",
      "12989      7490901  1262647800        720     4136       4         1   \n",
      "13000      7490914  1262648880        720     4136       7         1   \n",
      "13081      7491008  1262658840       1644     3444       8         1   \n",
      "...            ...         ...        ...      ...     ...       ...   \n",
      "3797203   12079588  1355669040       1981     2108      14         2   \n",
      "1087875    8780890  1290019500       1407     4695      64         2   \n",
      "819994     8457760  1283329860          4     4201      94         2   \n",
      "11464199  21483938  1530881700       1116      301     132         0   \n",
      "8971053   18414307  1474624680        368     3822      42         1   \n",
      "\n",
      "          merchant_id   mcc  errors  id_cards_data  ...  birth_month  gender  \\\n",
      "3459            90999  4722       0           5497  ...           10       1   \n",
      "9526             3558  3640       0           5497  ...           10       1   \n",
      "12989           24504  4214       0           4136  ...            5       0   \n",
      "13000           38602  5311       0           4136  ...            5       0   \n",
      "13081           21776  5712       0           3444  ...            1       1   \n",
      "...               ...   ...     ...            ...  ...          ...     ...   \n",
      "3797203         95299  7542       0           2108  ...            1       1   \n",
      "1087875         22204  5541       0           4695  ...           12       1   \n",
      "819994          43293  5499       0           4201  ...            3       0   \n",
      "11464199        22204  5541       0            301  ...            7       0   \n",
      "8971053         39021  4784       0           3822  ...            2       1   \n",
      "\n",
      "          latitude  longitude  per_capita_income  yearly_income  total_debt  \\\n",
      "3459         34.72     -92.35              13047          26600           0   \n",
      "9526         34.72     -92.35              13047          26600           0   \n",
      "12989        42.38     -83.10               9710          19800       40038   \n",
      "13000        42.38     -83.10               9710          19800       40038   \n",
      "13081        34.66     -83.09              15406          31943        1248   \n",
      "...            ...        ...                ...            ...         ...   \n",
      "3797203      26.63     -81.99              19274          39303       23650   \n",
      "1087875      33.43     -86.99              19851          40473       54899   \n",
      "819994       47.61    -122.30              37485          76431      115362   \n",
      "11464199     40.32     -75.32              26273          42509        2895   \n",
      "8971053      28.50     -81.37              20121          42806       20432   \n",
      "\n",
      "          credit_score  num_credit_cards  id_mcc_codes  \n",
      "3459               799                 4          4722  \n",
      "9526               799                 4          3640  \n",
      "12989              682                 3          4214  \n",
      "13000              682                 3          5311  \n",
      "13081              686                 6          5712  \n",
      "...                ...               ...           ...  \n",
      "3797203            702                 7          7542  \n",
      "1087875            689                 4          5541  \n",
      "819994             716                 5          5499  \n",
      "11464199           755                 5          5541  \n",
      "8971053            726                 6          4784  \n",
      "\n",
      "[26664 rows x 35 columns]\n",
      "\n",
      "X_train \t:                  id        date  client_id  card_id  amount  use_chip  \\\n",
      "2507627   10507884  1324809120        400     3776      11         2   \n",
      "11650965  21714695  1535103480        514     5759       3         0   \n",
      "7969694   17184760  1451830080       1103     2599     210         1   \n",
      "6914123   15891261  1427905680       1989     2984     113         1   \n",
      "11152307  21098645  1523808660       1983     2907     100         0   \n",
      "...            ...         ...        ...      ...     ...       ...   \n",
      "4932893   13464716  1382181600       1222     1076      69         1   \n",
      "643313     8245472  1278910380        797     2839      50         1   \n",
      "8076308   17315926  1454251620       1519     1020      94         2   \n",
      "8029973   17258803  1453202820       1237     5163     188         1   \n",
      "8219249   17491478  1457595300       1888     1017      33         0   \n",
      "\n",
      "          merchant_id   mcc  errors  id_cards_data  ...  birth_month  gender  \\\n",
      "2507627         50783  5411       0           3776  ...            5       0   \n",
      "11650965        17493  5812       0           5759  ...            8       1   \n",
      "7969694         32858  5311       0           2599  ...            5       0   \n",
      "6914123         76639  5732       0           2984  ...           12       1   \n",
      "11152307        89069  5251       0           2907  ...            3       1   \n",
      "...               ...   ...     ...            ...  ...          ...     ...   \n",
      "4932893         42693  5816       0           1076  ...           12       0   \n",
      "643313          61738  5094       0           2839  ...            9       0   \n",
      "8076308         22204  5541       0           1020  ...            3       0   \n",
      "8029973         86959  5311       0           5163  ...            9       0   \n",
      "8219249         82981  5912       0           1017  ...            6       0   \n",
      "\n",
      "          latitude  longitude  per_capita_income  yearly_income  total_debt  \\\n",
      "2507627      30.17     -85.67              19508          39770       72827   \n",
      "11650965     28.08     -80.60              15840          32295       72357   \n",
      "7969694      47.09    -116.46              12618          25723       34007   \n",
      "6914123      38.81     -76.75              33295          67886        7137   \n",
      "11152307     33.55    -117.78              69236         141161           0   \n",
      "...            ...        ...                ...            ...         ...   \n",
      "4932893      42.39    -113.78              14094          28738       48786   \n",
      "643313       21.30    -157.85              30410          62005      149968   \n",
      "8076308      45.60    -108.68              19625          40012       59472   \n",
      "8029973      42.37     -87.86              15770          32150       47179   \n",
      "8219249      44.65     -93.17              28429          41513       15899   \n",
      "\n",
      "          credit_score  num_credit_cards  id_mcc_codes  \n",
      "2507627            711                 4          5411  \n",
      "11650965           698                 4          5812  \n",
      "7969694            746                 3          5311  \n",
      "6914123            803                 4          5732  \n",
      "11152307           773                 3          5251  \n",
      "...                ...               ...           ...  \n",
      "4932893            600                 1          5816  \n",
      "643313             651                 9          5094  \n",
      "8076308            849                 4          5541  \n",
      "8029973            717                 6          5311  \n",
      "8219249            748                 3          5912  \n",
      "\n",
      "[21331 rows x 35 columns]\n",
      "\n",
      "X_test \t:                 id        date  client_id  card_id  amount  use_chip  \\\n",
      "5135350  13712418  1386915600       1987     3668     110         1   \n",
      "7374545  16455594  1438362360        421     5560      77         0   \n",
      "9652721  19251281  1490026980        973     3833      34         0   \n",
      "905486    8560720  1285480320        921     3457      49         2   \n",
      "1354953   9104976  1296663540       1875     5955      40         2   \n",
      "...           ...         ...        ...      ...     ...       ...   \n",
      "3073298  11197856  1338466380       1411     1069      99         1   \n",
      "6653612  15571652  1421939280       1137     3688      10         0   \n",
      "8640075  18008102  1467124800        218     4091       3         1   \n",
      "6739096  15676852  1423920240       1019     4794     153         0   \n",
      "4214689  12588888  1365515280         55     3980       2         2   \n",
      "\n",
      "         merchant_id   mcc  errors  id_cards_data  ...  birth_month  gender  \\\n",
      "5135350        54773  5311       0           3668  ...            9       1   \n",
      "7374545        91103  5651       0           5560  ...            1       0   \n",
      "9652721        31162  5310       0           3833  ...            5       1   \n",
      "905486         12156  5921       0           3457  ...            5       1   \n",
      "1354953        20561  5912       0           5955  ...            4       1   \n",
      "...              ...   ...     ...            ...  ...          ...     ...   \n",
      "3073298        80770  7922       0           1069  ...            6       0   \n",
      "6653612        20313  5812       0           3688  ...           10       1   \n",
      "8640075        82383  5045       0           4091  ...            3       0   \n",
      "6739096        24345  8049       0           4794  ...            1       0   \n",
      "4214689        14528  5499       0           3980  ...            3       0   \n",
      "\n",
      "         latitude  longitude  per_capita_income  yearly_income  total_debt  \\\n",
      "5135350     42.13     -87.92              23098          33686       24997   \n",
      "7374545     41.97     -91.66              22502          45876       58252   \n",
      "9652721     34.51     -89.94              12285          25051       19465   \n",
      "905486      42.98     -77.67              26072          54013        3628   \n",
      "1354953     40.89     -81.58              22170          45202       71022   \n",
      "...           ...        ...                ...            ...         ...   \n",
      "3073298     41.92     -88.30              33847          69007       52218   \n",
      "6653612     35.32     -82.46              16410          33465       98713   \n",
      "8640075     40.76     -74.03              16770          34190       39242   \n",
      "6739096     34.09    -117.96              15775          29928        2028   \n",
      "4214689     37.92    -122.34              21869          44583       85531   \n",
      "\n",
      "         credit_score  num_credit_cards  id_mcc_codes  \n",
      "5135350           488                 2          5311  \n",
      "7374545           790                 7          5651  \n",
      "9652721           734                 4          5310  \n",
      "905486            779                 8          5921  \n",
      "1354953           683                 4          5912  \n",
      "...               ...               ...           ...  \n",
      "3073298           720                 4          7922  \n",
      "6653612           669                 3          5812  \n",
      "8640075           810                 7          5045  \n",
      "6739096           713                 4          8049  \n",
      "4214689           717                 5          5499  \n",
      "\n",
      "[5333 rows x 35 columns]\n",
      "\n",
      "\n",
      "\n",
      "Y \t:  3459        2\n",
      "9526        2\n",
      "12989       2\n",
      "13000       2\n",
      "13081       2\n",
      "           ..\n",
      "3797203     1\n",
      "1087875     1\n",
      "819994      1\n",
      "11464199    1\n",
      "8971053     1\n",
      "Name: label, Length: 26664, dtype: int64\n",
      "\n",
      "Y_train \t:  2507627     1\n",
      "11650965    1\n",
      "7969694     2\n",
      "6914123     2\n",
      "11152307    1\n",
      "           ..\n",
      "4932893     2\n",
      "643313      2\n",
      "8076308     1\n",
      "8029973     2\n",
      "8219249     1\n",
      "Name: label, Length: 21331, dtype: int64\n",
      "\n",
      "Y_test \t:  5135350    2\n",
      "7374545    2\n",
      "9652721    1\n",
      "905486     2\n",
      "1354953    1\n",
      "          ..\n",
      "3073298    2\n",
      "6653612    1\n",
      "8640075    2\n",
      "6739096    1\n",
      "4214689    1\n",
      "Name: label, Length: 5333, dtype: int64\n"
     ]
    }
   ],
   "source": [
    "print(\"\\nX \\t: \", X)\n",
    "print(\"\\nX_train \\t: \", X_train)\n",
    "print(\"\\nX_test \\t: \", X_test)\n",
    "print(\"\\n\")\n",
    "print(\"\\nY \\t: \", Y)\n",
    "print(\"\\nY_train \\t: \", Y_train)\n",
    "print(\"\\nY_test \\t: \", Y_test)"
   ]
  },
  {
   "cell_type": "markdown",
   "metadata": {},
   "source": [
    "### Training Model"
   ]
  },
  {
   "cell_type": "markdown",
   "metadata": {},
   "source": [
    "> <b><u>Note</u></b>\n",
    "> \n",
    "> Use RandomForest for a complex, non-linear problems with high-dimensional or categorical data.\n"
   ]
  },
  {
   "cell_type": "markdown",
   "metadata": {},
   "source": [
    "#### Random Forest"
   ]
  },
  {
   "cell_type": "code",
   "execution_count": 29,
   "metadata": {},
   "outputs": [
    {
     "data": {
      "text/html": [
       "<style>#sk-container-id-1 {\n",
       "  /* Definition of color scheme common for light and dark mode */\n",
       "  --sklearn-color-text: #000;\n",
       "  --sklearn-color-text-muted: #666;\n",
       "  --sklearn-color-line: gray;\n",
       "  /* Definition of color scheme for unfitted estimators */\n",
       "  --sklearn-color-unfitted-level-0: #fff5e6;\n",
       "  --sklearn-color-unfitted-level-1: #f6e4d2;\n",
       "  --sklearn-color-unfitted-level-2: #ffe0b3;\n",
       "  --sklearn-color-unfitted-level-3: chocolate;\n",
       "  /* Definition of color scheme for fitted estimators */\n",
       "  --sklearn-color-fitted-level-0: #f0f8ff;\n",
       "  --sklearn-color-fitted-level-1: #d4ebff;\n",
       "  --sklearn-color-fitted-level-2: #b3dbfd;\n",
       "  --sklearn-color-fitted-level-3: cornflowerblue;\n",
       "\n",
       "  /* Specific color for light theme */\n",
       "  --sklearn-color-text-on-default-background: var(--sg-text-color, var(--theme-code-foreground, var(--jp-content-font-color1, black)));\n",
       "  --sklearn-color-background: var(--sg-background-color, var(--theme-background, var(--jp-layout-color0, white)));\n",
       "  --sklearn-color-border-box: var(--sg-text-color, var(--theme-code-foreground, var(--jp-content-font-color1, black)));\n",
       "  --sklearn-color-icon: #696969;\n",
       "\n",
       "  @media (prefers-color-scheme: dark) {\n",
       "    /* Redefinition of color scheme for dark theme */\n",
       "    --sklearn-color-text-on-default-background: var(--sg-text-color, var(--theme-code-foreground, var(--jp-content-font-color1, white)));\n",
       "    --sklearn-color-background: var(--sg-background-color, var(--theme-background, var(--jp-layout-color0, #111)));\n",
       "    --sklearn-color-border-box: var(--sg-text-color, var(--theme-code-foreground, var(--jp-content-font-color1, white)));\n",
       "    --sklearn-color-icon: #878787;\n",
       "  }\n",
       "}\n",
       "\n",
       "#sk-container-id-1 {\n",
       "  color: var(--sklearn-color-text);\n",
       "}\n",
       "\n",
       "#sk-container-id-1 pre {\n",
       "  padding: 0;\n",
       "}\n",
       "\n",
       "#sk-container-id-1 input.sk-hidden--visually {\n",
       "  border: 0;\n",
       "  clip: rect(1px 1px 1px 1px);\n",
       "  clip: rect(1px, 1px, 1px, 1px);\n",
       "  height: 1px;\n",
       "  margin: -1px;\n",
       "  overflow: hidden;\n",
       "  padding: 0;\n",
       "  position: absolute;\n",
       "  width: 1px;\n",
       "}\n",
       "\n",
       "#sk-container-id-1 div.sk-dashed-wrapped {\n",
       "  border: 1px dashed var(--sklearn-color-line);\n",
       "  margin: 0 0.4em 0.5em 0.4em;\n",
       "  box-sizing: border-box;\n",
       "  padding-bottom: 0.4em;\n",
       "  background-color: var(--sklearn-color-background);\n",
       "}\n",
       "\n",
       "#sk-container-id-1 div.sk-container {\n",
       "  /* jupyter's `normalize.less` sets `[hidden] { display: none; }`\n",
       "     but bootstrap.min.css set `[hidden] { display: none !important; }`\n",
       "     so we also need the `!important` here to be able to override the\n",
       "     default hidden behavior on the sphinx rendered scikit-learn.org.\n",
       "     See: https://github.com/scikit-learn/scikit-learn/issues/21755 */\n",
       "  display: inline-block !important;\n",
       "  position: relative;\n",
       "}\n",
       "\n",
       "#sk-container-id-1 div.sk-text-repr-fallback {\n",
       "  display: none;\n",
       "}\n",
       "\n",
       "div.sk-parallel-item,\n",
       "div.sk-serial,\n",
       "div.sk-item {\n",
       "  /* draw centered vertical line to link estimators */\n",
       "  background-image: linear-gradient(var(--sklearn-color-text-on-default-background), var(--sklearn-color-text-on-default-background));\n",
       "  background-size: 2px 100%;\n",
       "  background-repeat: no-repeat;\n",
       "  background-position: center center;\n",
       "}\n",
       "\n",
       "/* Parallel-specific style estimator block */\n",
       "\n",
       "#sk-container-id-1 div.sk-parallel-item::after {\n",
       "  content: \"\";\n",
       "  width: 100%;\n",
       "  border-bottom: 2px solid var(--sklearn-color-text-on-default-background);\n",
       "  flex-grow: 1;\n",
       "}\n",
       "\n",
       "#sk-container-id-1 div.sk-parallel {\n",
       "  display: flex;\n",
       "  align-items: stretch;\n",
       "  justify-content: center;\n",
       "  background-color: var(--sklearn-color-background);\n",
       "  position: relative;\n",
       "}\n",
       "\n",
       "#sk-container-id-1 div.sk-parallel-item {\n",
       "  display: flex;\n",
       "  flex-direction: column;\n",
       "}\n",
       "\n",
       "#sk-container-id-1 div.sk-parallel-item:first-child::after {\n",
       "  align-self: flex-end;\n",
       "  width: 50%;\n",
       "}\n",
       "\n",
       "#sk-container-id-1 div.sk-parallel-item:last-child::after {\n",
       "  align-self: flex-start;\n",
       "  width: 50%;\n",
       "}\n",
       "\n",
       "#sk-container-id-1 div.sk-parallel-item:only-child::after {\n",
       "  width: 0;\n",
       "}\n",
       "\n",
       "/* Serial-specific style estimator block */\n",
       "\n",
       "#sk-container-id-1 div.sk-serial {\n",
       "  display: flex;\n",
       "  flex-direction: column;\n",
       "  align-items: center;\n",
       "  background-color: var(--sklearn-color-background);\n",
       "  padding-right: 1em;\n",
       "  padding-left: 1em;\n",
       "}\n",
       "\n",
       "\n",
       "/* Toggleable style: style used for estimator/Pipeline/ColumnTransformer box that is\n",
       "clickable and can be expanded/collapsed.\n",
       "- Pipeline and ColumnTransformer use this feature and define the default style\n",
       "- Estimators will overwrite some part of the style using the `sk-estimator` class\n",
       "*/\n",
       "\n",
       "/* Pipeline and ColumnTransformer style (default) */\n",
       "\n",
       "#sk-container-id-1 div.sk-toggleable {\n",
       "  /* Default theme specific background. It is overwritten whether we have a\n",
       "  specific estimator or a Pipeline/ColumnTransformer */\n",
       "  background-color: var(--sklearn-color-background);\n",
       "}\n",
       "\n",
       "/* Toggleable label */\n",
       "#sk-container-id-1 label.sk-toggleable__label {\n",
       "  cursor: pointer;\n",
       "  display: flex;\n",
       "  width: 100%;\n",
       "  margin-bottom: 0;\n",
       "  padding: 0.5em;\n",
       "  box-sizing: border-box;\n",
       "  text-align: center;\n",
       "  align-items: start;\n",
       "  justify-content: space-between;\n",
       "  gap: 0.5em;\n",
       "}\n",
       "\n",
       "#sk-container-id-1 label.sk-toggleable__label .caption {\n",
       "  font-size: 0.6rem;\n",
       "  font-weight: lighter;\n",
       "  color: var(--sklearn-color-text-muted);\n",
       "}\n",
       "\n",
       "#sk-container-id-1 label.sk-toggleable__label-arrow:before {\n",
       "  /* Arrow on the left of the label */\n",
       "  content: \"▸\";\n",
       "  float: left;\n",
       "  margin-right: 0.25em;\n",
       "  color: var(--sklearn-color-icon);\n",
       "}\n",
       "\n",
       "#sk-container-id-1 label.sk-toggleable__label-arrow:hover:before {\n",
       "  color: var(--sklearn-color-text);\n",
       "}\n",
       "\n",
       "/* Toggleable content - dropdown */\n",
       "\n",
       "#sk-container-id-1 div.sk-toggleable__content {\n",
       "  max-height: 0;\n",
       "  max-width: 0;\n",
       "  overflow: hidden;\n",
       "  text-align: left;\n",
       "  /* unfitted */\n",
       "  background-color: var(--sklearn-color-unfitted-level-0);\n",
       "}\n",
       "\n",
       "#sk-container-id-1 div.sk-toggleable__content.fitted {\n",
       "  /* fitted */\n",
       "  background-color: var(--sklearn-color-fitted-level-0);\n",
       "}\n",
       "\n",
       "#sk-container-id-1 div.sk-toggleable__content pre {\n",
       "  margin: 0.2em;\n",
       "  border-radius: 0.25em;\n",
       "  color: var(--sklearn-color-text);\n",
       "  /* unfitted */\n",
       "  background-color: var(--sklearn-color-unfitted-level-0);\n",
       "}\n",
       "\n",
       "#sk-container-id-1 div.sk-toggleable__content.fitted pre {\n",
       "  /* unfitted */\n",
       "  background-color: var(--sklearn-color-fitted-level-0);\n",
       "}\n",
       "\n",
       "#sk-container-id-1 input.sk-toggleable__control:checked~div.sk-toggleable__content {\n",
       "  /* Expand drop-down */\n",
       "  max-height: 200px;\n",
       "  max-width: 100%;\n",
       "  overflow: auto;\n",
       "}\n",
       "\n",
       "#sk-container-id-1 input.sk-toggleable__control:checked~label.sk-toggleable__label-arrow:before {\n",
       "  content: \"▾\";\n",
       "}\n",
       "\n",
       "/* Pipeline/ColumnTransformer-specific style */\n",
       "\n",
       "#sk-container-id-1 div.sk-label input.sk-toggleable__control:checked~label.sk-toggleable__label {\n",
       "  color: var(--sklearn-color-text);\n",
       "  background-color: var(--sklearn-color-unfitted-level-2);\n",
       "}\n",
       "\n",
       "#sk-container-id-1 div.sk-label.fitted input.sk-toggleable__control:checked~label.sk-toggleable__label {\n",
       "  background-color: var(--sklearn-color-fitted-level-2);\n",
       "}\n",
       "\n",
       "/* Estimator-specific style */\n",
       "\n",
       "/* Colorize estimator box */\n",
       "#sk-container-id-1 div.sk-estimator input.sk-toggleable__control:checked~label.sk-toggleable__label {\n",
       "  /* unfitted */\n",
       "  background-color: var(--sklearn-color-unfitted-level-2);\n",
       "}\n",
       "\n",
       "#sk-container-id-1 div.sk-estimator.fitted input.sk-toggleable__control:checked~label.sk-toggleable__label {\n",
       "  /* fitted */\n",
       "  background-color: var(--sklearn-color-fitted-level-2);\n",
       "}\n",
       "\n",
       "#sk-container-id-1 div.sk-label label.sk-toggleable__label,\n",
       "#sk-container-id-1 div.sk-label label {\n",
       "  /* The background is the default theme color */\n",
       "  color: var(--sklearn-color-text-on-default-background);\n",
       "}\n",
       "\n",
       "/* On hover, darken the color of the background */\n",
       "#sk-container-id-1 div.sk-label:hover label.sk-toggleable__label {\n",
       "  color: var(--sklearn-color-text);\n",
       "  background-color: var(--sklearn-color-unfitted-level-2);\n",
       "}\n",
       "\n",
       "/* Label box, darken color on hover, fitted */\n",
       "#sk-container-id-1 div.sk-label.fitted:hover label.sk-toggleable__label.fitted {\n",
       "  color: var(--sklearn-color-text);\n",
       "  background-color: var(--sklearn-color-fitted-level-2);\n",
       "}\n",
       "\n",
       "/* Estimator label */\n",
       "\n",
       "#sk-container-id-1 div.sk-label label {\n",
       "  font-family: monospace;\n",
       "  font-weight: bold;\n",
       "  display: inline-block;\n",
       "  line-height: 1.2em;\n",
       "}\n",
       "\n",
       "#sk-container-id-1 div.sk-label-container {\n",
       "  text-align: center;\n",
       "}\n",
       "\n",
       "/* Estimator-specific */\n",
       "#sk-container-id-1 div.sk-estimator {\n",
       "  font-family: monospace;\n",
       "  border: 1px dotted var(--sklearn-color-border-box);\n",
       "  border-radius: 0.25em;\n",
       "  box-sizing: border-box;\n",
       "  margin-bottom: 0.5em;\n",
       "  /* unfitted */\n",
       "  background-color: var(--sklearn-color-unfitted-level-0);\n",
       "}\n",
       "\n",
       "#sk-container-id-1 div.sk-estimator.fitted {\n",
       "  /* fitted */\n",
       "  background-color: var(--sklearn-color-fitted-level-0);\n",
       "}\n",
       "\n",
       "/* on hover */\n",
       "#sk-container-id-1 div.sk-estimator:hover {\n",
       "  /* unfitted */\n",
       "  background-color: var(--sklearn-color-unfitted-level-2);\n",
       "}\n",
       "\n",
       "#sk-container-id-1 div.sk-estimator.fitted:hover {\n",
       "  /* fitted */\n",
       "  background-color: var(--sklearn-color-fitted-level-2);\n",
       "}\n",
       "\n",
       "/* Specification for estimator info (e.g. \"i\" and \"?\") */\n",
       "\n",
       "/* Common style for \"i\" and \"?\" */\n",
       "\n",
       ".sk-estimator-doc-link,\n",
       "a:link.sk-estimator-doc-link,\n",
       "a:visited.sk-estimator-doc-link {\n",
       "  float: right;\n",
       "  font-size: smaller;\n",
       "  line-height: 1em;\n",
       "  font-family: monospace;\n",
       "  background-color: var(--sklearn-color-background);\n",
       "  border-radius: 1em;\n",
       "  height: 1em;\n",
       "  width: 1em;\n",
       "  text-decoration: none !important;\n",
       "  margin-left: 0.5em;\n",
       "  text-align: center;\n",
       "  /* unfitted */\n",
       "  border: var(--sklearn-color-unfitted-level-1) 1pt solid;\n",
       "  color: var(--sklearn-color-unfitted-level-1);\n",
       "}\n",
       "\n",
       ".sk-estimator-doc-link.fitted,\n",
       "a:link.sk-estimator-doc-link.fitted,\n",
       "a:visited.sk-estimator-doc-link.fitted {\n",
       "  /* fitted */\n",
       "  border: var(--sklearn-color-fitted-level-1) 1pt solid;\n",
       "  color: var(--sklearn-color-fitted-level-1);\n",
       "}\n",
       "\n",
       "/* On hover */\n",
       "div.sk-estimator:hover .sk-estimator-doc-link:hover,\n",
       ".sk-estimator-doc-link:hover,\n",
       "div.sk-label-container:hover .sk-estimator-doc-link:hover,\n",
       ".sk-estimator-doc-link:hover {\n",
       "  /* unfitted */\n",
       "  background-color: var(--sklearn-color-unfitted-level-3);\n",
       "  color: var(--sklearn-color-background);\n",
       "  text-decoration: none;\n",
       "}\n",
       "\n",
       "div.sk-estimator.fitted:hover .sk-estimator-doc-link.fitted:hover,\n",
       ".sk-estimator-doc-link.fitted:hover,\n",
       "div.sk-label-container:hover .sk-estimator-doc-link.fitted:hover,\n",
       ".sk-estimator-doc-link.fitted:hover {\n",
       "  /* fitted */\n",
       "  background-color: var(--sklearn-color-fitted-level-3);\n",
       "  color: var(--sklearn-color-background);\n",
       "  text-decoration: none;\n",
       "}\n",
       "\n",
       "/* Span, style for the box shown on hovering the info icon */\n",
       ".sk-estimator-doc-link span {\n",
       "  display: none;\n",
       "  z-index: 9999;\n",
       "  position: relative;\n",
       "  font-weight: normal;\n",
       "  right: .2ex;\n",
       "  padding: .5ex;\n",
       "  margin: .5ex;\n",
       "  width: min-content;\n",
       "  min-width: 20ex;\n",
       "  max-width: 50ex;\n",
       "  color: var(--sklearn-color-text);\n",
       "  box-shadow: 2pt 2pt 4pt #999;\n",
       "  /* unfitted */\n",
       "  background: var(--sklearn-color-unfitted-level-0);\n",
       "  border: .5pt solid var(--sklearn-color-unfitted-level-3);\n",
       "}\n",
       "\n",
       ".sk-estimator-doc-link.fitted span {\n",
       "  /* fitted */\n",
       "  background: var(--sklearn-color-fitted-level-0);\n",
       "  border: var(--sklearn-color-fitted-level-3);\n",
       "}\n",
       "\n",
       ".sk-estimator-doc-link:hover span {\n",
       "  display: block;\n",
       "}\n",
       "\n",
       "/* \"?\"-specific style due to the `<a>` HTML tag */\n",
       "\n",
       "#sk-container-id-1 a.estimator_doc_link {\n",
       "  float: right;\n",
       "  font-size: 1rem;\n",
       "  line-height: 1em;\n",
       "  font-family: monospace;\n",
       "  background-color: var(--sklearn-color-background);\n",
       "  border-radius: 1rem;\n",
       "  height: 1rem;\n",
       "  width: 1rem;\n",
       "  text-decoration: none;\n",
       "  /* unfitted */\n",
       "  color: var(--sklearn-color-unfitted-level-1);\n",
       "  border: var(--sklearn-color-unfitted-level-1) 1pt solid;\n",
       "}\n",
       "\n",
       "#sk-container-id-1 a.estimator_doc_link.fitted {\n",
       "  /* fitted */\n",
       "  border: var(--sklearn-color-fitted-level-1) 1pt solid;\n",
       "  color: var(--sklearn-color-fitted-level-1);\n",
       "}\n",
       "\n",
       "/* On hover */\n",
       "#sk-container-id-1 a.estimator_doc_link:hover {\n",
       "  /* unfitted */\n",
       "  background-color: var(--sklearn-color-unfitted-level-3);\n",
       "  color: var(--sklearn-color-background);\n",
       "  text-decoration: none;\n",
       "}\n",
       "\n",
       "#sk-container-id-1 a.estimator_doc_link.fitted:hover {\n",
       "  /* fitted */\n",
       "  background-color: var(--sklearn-color-fitted-level-3);\n",
       "}\n",
       "</style><div id=\"sk-container-id-1\" class=\"sk-top-container\"><div class=\"sk-text-repr-fallback\"><pre>RandomForestClassifier(random_state=42)</pre><b>In a Jupyter environment, please rerun this cell to show the HTML representation or trust the notebook. <br />On GitHub, the HTML representation is unable to render, please try loading this page with nbviewer.org.</b></div><div class=\"sk-container\" hidden><div class=\"sk-item\"><div class=\"sk-estimator fitted sk-toggleable\"><input class=\"sk-toggleable__control sk-hidden--visually\" id=\"sk-estimator-id-1\" type=\"checkbox\" checked><label for=\"sk-estimator-id-1\" class=\"sk-toggleable__label fitted sk-toggleable__label-arrow\"><div><div>RandomForestClassifier</div></div><div><a class=\"sk-estimator-doc-link fitted\" rel=\"noreferrer\" target=\"_blank\" href=\"https://scikit-learn.org/1.6/modules/generated/sklearn.ensemble.RandomForestClassifier.html\">?<span>Documentation for RandomForestClassifier</span></a><span class=\"sk-estimator-doc-link fitted\">i<span>Fitted</span></span></div></label><div class=\"sk-toggleable__content fitted\"><pre>RandomForestClassifier(random_state=42)</pre></div> </div></div></div></div>"
      ],
      "text/plain": [
       "RandomForestClassifier(random_state=42)"
      ]
     },
     "execution_count": 29,
     "metadata": {},
     "output_type": "execute_result"
    }
   ],
   "source": [
    "model = RandomForestClassifier(random_state=42)\n",
    "\n",
    "model.fit(X_train, Y_train)"
   ]
  },
  {
   "cell_type": "markdown",
   "metadata": {},
   "source": [
    "#### Predict"
   ]
  },
  {
   "cell_type": "code",
   "execution_count": 30,
   "metadata": {},
   "outputs": [],
   "source": [
    "Y_train_prediction = model.predict(X_train)"
   ]
  },
  {
   "cell_type": "markdown",
   "metadata": {},
   "source": [
    "#### Evaluate Model Accuracy"
   ]
  },
  {
   "cell_type": "code",
   "execution_count": 31,
   "metadata": {},
   "outputs": [
    {
     "name": "stdout",
     "output_type": "stream",
     "text": [
      "              precision    recall  f1-score   support\n",
      "\n",
      "           1       1.00      1.00      1.00     10665\n",
      "           2       1.00      1.00      1.00     10666\n",
      "\n",
      "    accuracy                           1.00     21331\n",
      "   macro avg       1.00      1.00      1.00     21331\n",
      "weighted avg       1.00      1.00      1.00     21331\n",
      "\n",
      "\n",
      "Accuracy Store \t:  1.0\n"
     ]
    }
   ],
   "source": [
    "print(classification_report(Y_train, Y_train_prediction))\n",
    "print(\"\\nAccuracy Store \\t: \", accuracy_score(Y_train_prediction, Y_train))"
   ]
  },
  {
   "cell_type": "markdown",
   "metadata": {},
   "source": [
    "## Testing Model"
   ]
  },
  {
   "cell_type": "markdown",
   "metadata": {},
   "source": [
    "### Predict"
   ]
  },
  {
   "cell_type": "code",
   "execution_count": 32,
   "metadata": {},
   "outputs": [],
   "source": [
    "Y_test_prediction = model.predict(X_test)"
   ]
  },
  {
   "cell_type": "markdown",
   "metadata": {},
   "source": [
    "### Evaluate Model Accuracy"
   ]
  },
  {
   "cell_type": "code",
   "execution_count": 33,
   "metadata": {},
   "outputs": [
    {
     "name": "stdout",
     "output_type": "stream",
     "text": [
      "              precision    recall  f1-score   support\n",
      "\n",
      "           1       0.92      0.94      0.93      2667\n",
      "           2       0.94      0.92      0.93      2666\n",
      "\n",
      "    accuracy                           0.93      5333\n",
      "   macro avg       0.93      0.93      0.93      5333\n",
      "weighted avg       0.93      0.93      0.93      5333\n",
      "\n",
      "0.930245640352522\n"
     ]
    }
   ],
   "source": [
    "print(classification_report(Y_test, Y_test_prediction))\n",
    "print(accuracy_score(Y_test_prediction, Y_test))"
   ]
  },
  {
   "cell_type": "markdown",
   "metadata": {},
   "source": [
    "## Explain Prediction Behaviour"
   ]
  },
  {
   "cell_type": "markdown",
   "metadata": {},
   "source": [
    "### Feature Importance"
   ]
  },
  {
   "cell_type": "code",
   "execution_count": 34,
   "metadata": {},
   "outputs": [
    {
     "name": "stdout",
     "output_type": "stream",
     "text": [
      "\n",
      "Top 10 Important features:\n",
      "              Feature  Importance\n",
      "5            use_chip    0.206532\n",
      "34       id_mcc_codes    0.096434\n",
      "7                 mcc    0.091488\n",
      "4              amount    0.081696\n",
      "1                date    0.072759\n",
      "0                  id    0.071325\n",
      "6         merchant_id    0.051019\n",
      "18       credit_limit    0.018966\n",
      "29  per_capita_income    0.017060\n",
      "19     acct_open_date    0.016497\n"
     ]
    }
   ],
   "source": [
    "importances = model.feature_importances_\n",
    "feature_names = X_train.columns\n",
    "feature_importance_df = pd.DataFrame({'Feature': feature_names, 'Importance': importances})\n",
    "feature_importance_df = feature_importance_df.sort_values(by='Importance', ascending=False)\n",
    "\n",
    "print(\"\\nTop 10 Important features:\")\n",
    "print(feature_importance_df.head(10))"
   ]
  },
  {
   "cell_type": "markdown",
   "metadata": {},
   "source": [
    "## Predict Unlabelled Transactions"
   ]
  },
  {
   "cell_type": "markdown",
   "metadata": {},
   "source": [
    "### Prepare Data"
   ]
  },
  {
   "cell_type": "code",
   "execution_count": 35,
   "metadata": {},
   "outputs": [],
   "source": [
    "predict_transaction_data = data.drop([\"label\"], axis=1)"
   ]
  },
  {
   "cell_type": "markdown",
   "metadata": {},
   "source": [
    "### Predict"
   ]
  },
  {
   "cell_type": "code",
   "execution_count": 36,
   "metadata": {},
   "outputs": [],
   "source": [
    "predict_transaction_data[\"label\"] = model.predict(predict_transaction_data)"
   ]
  },
  {
   "cell_type": "markdown",
   "metadata": {},
   "source": [
    "### Analyze result"
   ]
  },
  {
   "cell_type": "code",
   "execution_count": 37,
   "metadata": {},
   "outputs": [
    {
     "name": "stdout",
     "output_type": "stream",
     "text": [
      "label\n",
      "1    12521978\n",
      "2      783937\n",
      "Name: count, dtype: int64\n"
     ]
    }
   ],
   "source": [
    "result_distribution_count = predict_transaction_data[\"label\"].value_counts(dropna=False)\n",
    "print(result_distribution_count)"
   ]
  },
  {
   "cell_type": "code",
   "execution_count": 38,
   "metadata": {},
   "outputs": [
    {
     "data": {
      "image/png": "[encoded data removed]",
      "text/plain": [
       "<Figure size 640x480 with 1 Axes>"
      ]
     },
     "metadata": {},
     "output_type": "display_data"
    }
   ],
   "source": [
    "result_distribution_count.plot(kind=\"bar\", color=[\"blue\", \"green\", \"red\"])\n",
    "plt.ion()\n",
    "plt.title(\"result_distribution_count of lables\")\n",
    "plt.xlabel(\"Label\")\n",
    "plt.ylabel(\"Count\")\n",
    "plt.xticks(rotation=0)\n",
    "plt.show()"
   ]
  },
  {
   "cell_type": "markdown",
   "metadata": {},
   "source": [
    "## Exporting Prediction Result as CSV"
   ]
  },
  {
   "cell_type": "code",
   "execution_count": 39,
   "metadata": {},
   "outputs": [],
   "source": [
    "result_fraud_detection = predict_transaction_data[['id', 'label']]\n",
    "predict_transaction_data['label'] = result_fraud_detection['label'].replace({1: 'No', 2: 'Yes'}).astype(str)\n",
    "result_fraud_detection.to_csv(\"fraud_prediction_result.csv\", index=False)"
   ]
  }
 ],
 "metadata": {
  "kernelspec": {
   "display_name": "3.9.13",
   "language": "python",
   "name": "python3"
  },
  "language_info": {
   "codemirror_mode": {
    "name": "ipython",
    "version": 3
   },
   "file_extension": ".py",
   "mimetype": "text/x-python",
   "name": "python",
   "nbconvert_exporter": "python",
   "pygments_lexer": "ipython3",
   "version": "3.9.13"
  }
 },
 "nbformat": 4,
 "nbformat_minor": 2
}
